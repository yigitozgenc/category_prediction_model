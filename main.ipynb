{
 "cells": [
  {
   "cell_type": "code",
   "execution_count": 1,
   "id": "765830fd",
   "metadata": {},
   "outputs": [],
   "source": [
    "from graph_helper import *\n",
    "import pandas as pd\n",
    "import numpy as np\n",
    "from bertopic import bertopic\n",
    "import pickle\n",
    "from fastapi import FastAPI\n",
    "from pydantic import BaseModel\n",
    "import argparse\n"
   ]
  },
  {
   "cell_type": "code",
   "execution_count": 2,
   "id": "c08e3153",
   "metadata": {},
   "outputs": [],
   "source": [
    "parser = argparse.ArgumentParser()\n",
    "parser.add_argument(\"--product_name\", default=\"jordan shoes\", type=str)\n",
    "args, unknown = parser.parse_known_args()\n"
   ]
  },
  {
   "cell_type": "code",
   "execution_count": 3,
   "id": "ce004911",
   "metadata": {},
   "outputs": [],
   "source": [
    "product_name = args.product_name"
   ]
  },
  {
   "cell_type": "code",
   "execution_count": 4,
   "id": "6a9fa025",
   "metadata": {},
   "outputs": [],
   "source": [
    "fastext_model = load_fastext(\"fastext1\")\n",
    "with open('root.pickle', 'rb') as handle:\n",
    "    root = pickle.load(handle)\n",
    "with open('all_leafs.pickle', 'rb') as handle:\n",
    "    all_leafs = pickle.load(handle)\n"
   ]
  },
  {
   "cell_type": "code",
   "execution_count": 5,
   "id": "971ff0c8",
   "metadata": {},
   "outputs": [],
   "source": [
    "def main(product_name,fastext_model,root,all_leafs):\n",
    "    return find_category_leaf(product_name,all_leafs,fastext_model,root)"
   ]
  },
  {
   "cell_type": "code",
   "execution_count": 6,
   "id": "0e1e724b",
   "metadata": {},
   "outputs": [
    {
     "data": {
      "text/plain": [
       "(Node(\"/Categories/clothing, shoes & accessories/kids/boys/boys' shoes\"),\n",
       " 190.16451202332973)"
      ]
     },
     "execution_count": 6,
     "metadata": {},
     "output_type": "execute_result"
    }
   ],
   "source": [
    "main(product_name,fastext_model,root,all_leafs)"
   ]
  },
  {
   "cell_type": "code",
   "execution_count": null,
   "id": "5be557b1",
   "metadata": {},
   "outputs": [],
   "source": []
  }
 ],
 "metadata": {
  "kernelspec": {
   "display_name": "Python 3 (ipykernel)",
   "language": "python",
   "name": "python3"
  },
  "language_info": {
   "codemirror_mode": {
    "name": "ipython",
    "version": 3
   },
   "file_extension": ".py",
   "mimetype": "text/x-python",
   "name": "python",
   "nbconvert_exporter": "python",
   "pygments_lexer": "ipython3",
   "version": "3.9.12"
  }
 },
 "nbformat": 4,
 "nbformat_minor": 5
}
