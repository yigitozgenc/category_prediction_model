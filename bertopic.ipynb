{
 "cells": [
  {
   "cell_type": "code",
   "execution_count": 40,
   "id": "0362a765",
   "metadata": {},
   "outputs": [],
   "source": [
    "from graph_helper import *\n",
    "import pandas as pd\n",
    "import numpy as np\n"
   ]
  },
  {
   "cell_type": "code",
   "execution_count": 41,
   "id": "ab7215d2",
   "metadata": {},
   "outputs": [],
   "source": [
    "freq = pd.read_csv(\"category_predictions.csv\")\n"
   ]
  },
  {
   "cell_type": "code",
   "execution_count": 42,
   "id": "e4810b9a",
   "metadata": {},
   "outputs": [],
   "source": [
    "bertopic = {\"book & magazine\":[\"book\",\"hardcover\",\"paperback\",\"novel\",'crewneck',\n",
    " 'waking',\n",
    " 'rising',\n",
    " 'wolven',\n",
    " 'deceptive',\n",
    " 'wayfinder',\n",
    " 'oath',\n",
    " 'overwatch',\n",
    " 'leo',\n",
    " 'twelve'],\n",
    " \"jewelry & accessories\":[\"ring\",\"diamond\",\"bracelet\",\"locket\",\"quartz\",\"earrings\"],\n",
    " \"Electronics\":[\"clockwork\",\"wayfinder\",\"android\",\"moderoid\",\"code\"],\n",
    " \"women's fashion\":[\"dress\",\"offshoulder\",\"polka\",\"sparkly\",\"maxi\"],\n",
    " \"skin care\":[\"moisturizer\",\"retinol\",\"serum\",\"hyaluronic\",\"acne\",\"toner\",\"antiaging\",\"skin\",\n",
    "              \"spots\",\"lotion\",'shampoo',\n",
    " 'conditioner',\n",
    " 'hair',\n",
    " 'keratin',\n",
    " 'redken',\n",
    " '338',\n",
    " 'taming',\n",
    " 'gkhair',\n",
    " 'biolage',\n",
    " 'dht'],\n",
    " \"vitamins & dietary supplements\":[\"vitamin\",\"calcium\",\"capsules\",\"magnesium\",\"tablets\",\"d3\",\"mg\",\"iu\",\"immune\",\"supplement\",\"nurse\",\"11oz\"],\n",
    "\"home & garden\":['homewares',\n",
    " 'atlas',\n",
    " 'successi',\n",
    " 'aged',\n",
    " 'eurotech',\n",
    " 'craftsman',\n",
    " 'browning',\n",
    " 'fulcrum',\n",
    " 'oskar',\n",
    " 'sutton'],\n",
    "\"yoga\":['yoga',\n",
    " 'leggings',\n",
    " 'capri',\n",
    " 'gimnasio',\n",
    " 'spiderweb',\n",
    " 'scorpio',\n",
    " 'rawr',\n",
    " 'dreamcatcher',\n",
    " 'scattered',\n",
    " 'cracked'],\n",
    "\"tea & infusions\":['tea',\n",
    " 'salada',\n",
    " '20ct',\n",
    " 'teabags',\n",
    " 'iced',\n",
    " 'chai',\n",
    " 'tazo',\n",
    " 'guayaki',\n",
    " 'mate',\n",
    " 'matcha']}"
   ]
  },
  {
   "cell_type": "raw",
   "id": "234fd463",
   "metadata": {},
   "source": []
  }
 ],
 "metadata": {
  "kernelspec": {
   "display_name": "Python 3 (ipykernel)",
   "language": "python",
   "name": "python3"
  },
  "language_info": {
   "codemirror_mode": {
    "name": "ipython",
    "version": 3
   },
   "file_extension": ".py",
   "mimetype": "text/x-python",
   "name": "python",
   "nbconvert_exporter": "python",
   "pygments_lexer": "ipython3",
   "version": "3.9.12"
  }
 },
 "nbformat": 4,
 "nbformat_minor": 5
}
