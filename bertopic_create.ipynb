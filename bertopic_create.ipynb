{
 "cells": [
  {
   "cell_type": "code",
   "execution_count": 7,
   "metadata": {
    "execution": {
     "iopub.execute_input": "2022-08-30T02:39:37.574451Z",
     "iopub.status.busy": "2022-08-30T02:39:37.573915Z",
     "iopub.status.idle": "2022-08-30T02:40:05.406552Z",
     "shell.execute_reply": "2022-08-30T02:40:05.405299Z",
     "shell.execute_reply.started": "2022-08-30T02:39:37.574409Z"
    }
   },
   "outputs": [],
   "source": [
    "import pandas as pd\n",
    "import numpy as np\n",
    "from bertopic import BERTopic"
   ]
  },
  {
   "cell_type": "code",
   "execution_count": 8,
   "metadata": {
    "execution": {
     "iopub.execute_input": "2022-08-30T02:40:05.410851Z",
     "iopub.status.busy": "2022-08-30T02:40:05.408837Z",
     "iopub.status.idle": "2022-08-30T02:40:14.065554Z",
     "shell.execute_reply": "2022-08-30T02:40:14.064374Z",
     "shell.execute_reply.started": "2022-08-30T02:40:05.410777Z"
    }
   },
   "outputs": [],
   "source": [
    "df = pd.read_csv(\"/preprocessed_data\")"
   ]
  },
  {
   "cell_type": "code",
   "execution_count": 10,
   "metadata": {
    "execution": {
     "iopub.execute_input": "2022-08-30T02:40:15.503128Z",
     "iopub.status.busy": "2022-08-30T02:40:15.502700Z",
     "iopub.status.idle": "2022-08-30T02:40:16.208540Z",
     "shell.execute_reply": "2022-08-30T02:40:16.207288Z",
     "shell.execute_reply.started": "2022-08-30T02:40:15.503094Z"
    }
   },
   "outputs": [],
   "source": [
    "df = df.sample(frac =.5)\n",
    "df[\"product_name\"]=df.product_name.astype(str)\n",
    "docs = df.product_name.tolist()"
   ]
  },
  {
   "cell_type": "code",
   "execution_count": 11,
   "metadata": {
    "execution": {
     "iopub.execute_input": "2022-08-30T02:40:16.210730Z",
     "iopub.status.busy": "2022-08-30T02:40:16.210362Z",
     "iopub.status.idle": "2022-08-30T02:40:16.215775Z",
     "shell.execute_reply": "2022-08-30T02:40:16.214607Z",
     "shell.execute_reply.started": "2022-08-30T02:40:16.210696Z"
    }
   },
   "outputs": [],
   "source": [
    "from sklearn.feature_extraction.text import CountVectorizer\n",
    "\n",
    "vectorizer_model = CountVectorizer(ngram_range=(1, 2), stop_words=\"english\", min_df=250)\n"
   ]
  },
  {
   "cell_type": "code",
   "execution_count": 12,
   "metadata": {
    "execution": {
     "iopub.execute_input": "2022-08-30T02:40:16.218528Z",
     "iopub.status.busy": "2022-08-30T02:40:16.217733Z",
     "iopub.status.idle": "2022-08-30T02:40:16.228121Z",
     "shell.execute_reply": "2022-08-30T02:40:16.227065Z",
     "shell.execute_reply.started": "2022-08-30T02:40:16.218480Z"
    }
   },
   "outputs": [],
   "source": [
    "model = BERTopic(language=\"english\", calculate_probabilities=False, verbose=True,low_memory=True)\n"
   ]
  },
  {
   "cell_type": "code",
   "execution_count": 13,
   "metadata": {
    "execution": {
     "iopub.execute_input": "2022-08-30T02:40:16.231234Z",
     "iopub.status.busy": "2022-08-30T02:40:16.230858Z",
     "iopub.status.idle": "2022-08-30T03:51:13.682860Z",
     "shell.execute_reply": "2022-08-30T03:51:13.681261Z",
     "shell.execute_reply.started": "2022-08-30T02:40:16.231202Z"
    }
   },
   "outputs": [],
   "source": [
    "topics = model.fit(docs)"
   ]
  },
  {
   "cell_type": "code",
   "execution_count": 14,
   "metadata": {
    "execution": {
     "iopub.execute_input": "2022-08-30T03:51:13.685785Z",
     "iopub.status.busy": "2022-08-30T03:51:13.685117Z",
     "iopub.status.idle": "2022-08-30T03:51:13.718405Z",
     "shell.execute_reply": "2022-08-30T03:51:13.717162Z",
     "shell.execute_reply.started": "2022-08-30T03:51:13.685735Z"
    }
   },
   "outputs": [],
   "source": [
    "docs = df.product_name.tolist()"
   ]
  },
  {
   "cell_type": "code",
   "execution_count": 15,
   "metadata": {
    "execution": {
     "iopub.execute_input": "2022-08-30T03:51:13.722124Z",
     "iopub.status.busy": "2022-08-30T03:51:13.721725Z",
     "iopub.status.idle": "2022-08-30T04:20:47.734034Z",
     "shell.execute_reply": "2022-08-30T04:20:47.732778Z",
     "shell.execute_reply.started": "2022-08-30T03:51:13.722091Z"
    }
   },
   "outputs": [],
   "source": [
    "topics2 = topics.transform(docs)"
   ]
  },
  {
   "cell_type": "code",
   "execution_count": 16,
   "metadata": {
    "execution": {
     "iopub.execute_input": "2022-08-30T04:20:47.736230Z",
     "iopub.status.busy": "2022-08-30T04:20:47.735858Z",
     "iopub.status.idle": "2022-08-30T04:20:47.770281Z",
     "shell.execute_reply": "2022-08-30T04:20:47.769139Z",
     "shell.execute_reply.started": "2022-08-30T04:20:47.736196Z"
    }
   },
   "outputs": [],
   "source": [
    "freq = model.get_topic_info()\n",
    "print(\"Number of topics: {}\".format( len(freq)))\n",
    "freq.head()\n"
   ]
  },
  {
   "cell_type": "code",
   "execution_count": 17,
   "metadata": {
    "execution": {
     "iopub.execute_input": "2022-08-30T04:21:21.742711Z",
     "iopub.status.busy": "2022-08-30T04:21:21.742268Z",
     "iopub.status.idle": "2022-08-30T04:21:21.777779Z",
     "shell.execute_reply": "2022-08-30T04:21:21.776867Z",
     "shell.execute_reply.started": "2022-08-30T04:21:21.742675Z"
    }
   },
   "outputs": [],
   "source": [
    "freq.to_csv('category_predictions')"
   ]
  },
  {
   "cell_type": "code",
   "execution_count": 80,
   "metadata": {
    "execution": {
     "iopub.execute_input": "2022-08-30T04:45:28.850165Z",
     "iopub.status.busy": "2022-08-30T04:45:28.849007Z",
     "iopub.status.idle": "2022-08-30T04:45:28.859407Z",
     "shell.execute_reply": "2022-08-30T04:45:28.858059Z",
     "shell.execute_reply.started": "2022-08-30T04:45:28.850121Z"
    }
   },
   "outputs": [],
   "source": [
    "model.save(\"bertopic_model\")"
   ]
  },
  {
   "cell_type": "code",
   "execution_count": null,
   "metadata": {},
   "outputs": [],
   "source": []
  }
 ],
 "metadata": {
  "kernelspec": {
   "display_name": "Python 3 (ipykernel)",
   "language": "python",
   "name": "python3"
  },
  "language_info": {
   "codemirror_mode": {
    "name": "ipython",
    "version": 3
   },
   "file_extension": ".py",
   "mimetype": "text/x-python",
   "name": "python",
   "nbconvert_exporter": "python",
   "pygments_lexer": "ipython3",
   "version": "3.9.12"
  }
 },
 "nbformat": 4,
 "nbformat_minor": 4
}
